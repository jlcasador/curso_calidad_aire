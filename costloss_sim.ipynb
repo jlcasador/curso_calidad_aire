{
 "cells": [
  {
   "cell_type": "markdown",
   "id": "7e49d714",
   "metadata": {},
   "source": [
    "![logoAEMET](img/logoAEMET_05.png)"
   ]
  },
  {
   "cell_type": "markdown",
   "id": "f277d1d4",
   "metadata": {},
   "source": [
    "- **Autor:** Jose Luis Casado\n",
    "- **Institución:** AEMET"
   ]
  },
  {
   "cell_type": "markdown",
   "id": "a4c34d23",
   "metadata": {},
   "source": [
    "# Simulador Coste/Pérdida"
   ]
  },
  {
   "cell_type": "markdown",
   "id": "48055ed7",
   "metadata": {},
   "source": [
    "<style>\n",
    "td, th {\n",
    "   border: 1px solid white;\n",
    "   border-collapse: collapse;\n",
    "}\n",
    "</style>\n",
    "<table align=\"left\">\n",
    "  <tr>\n",
    "    <th>Ejecutar en la plataforma en la nube: </th>\n",
    "    <th><a href=\"https://colab.research.google.com/github/jlcasador/curso_calidad_aire/blob/main/costloss_sim.ipynb\">\n",
    "        <img src = \"https://colab.research.google.com/assets/colab-badge.svg\" alt = \"Colab\"></th>\n",
    "  </tr>\n",
    "</table>"
   ]
  },
  {
   "cell_type": "code",
   "execution_count": null,
   "id": "7f80d0d7",
   "metadata": {},
   "outputs": [],
   "source": [
    "#Descargar datos\n",
    "!test -f cams_ES1885A_2022.csv | wget https://owncloud.aemet.es/index.php/s/31It2Bc6sCBtUl8/download -O cams_ES1885A_2022.csv\n",
    "#Descargar código\n",
    "!test -f costlosssimulator.py | wget https://owncloud.aemet.es/index.php/s/qlMFjjIvQY7iLG7 -O costlosssimulator.py\n",
    "#Importar código\n",
    "from costlosssimulator import Simulator"
   ]
  },
  {
   "cell_type": "markdown",
   "id": "4980f5ef",
   "metadata": {},
   "source": [
    "**Reto:**  \n",
    "Nos dan EPSgramas de la predicción de $NO_2$ para una hora determinada (`Step`) de cada día en la estación ES1885A  (Politécnica de Valencia). El EPSgrama nos informa de la mediana, los percentiles 25 y 75, y la predicción mínima y máxima, a partir de los 7 modelos regionales de calidad del aire.  \n",
    "\n",
    "Tenemos que decidir cada día si queremos comprar un seguro que tiene un `Coste`, pero que nos puede proteger de una posible `Pérdida`. Esta `Pérdida` ocurrirá si el $NO_2$ medido sobrepasa un cierto `Umbral` (todos estos parámetros son configurables). Competiremos contra varios rivales que siguen distintas estrategias."
   ]
  },
  {
   "cell_type": "markdown",
   "id": "fd4ba04d",
   "metadata": {},
   "source": [
    "**Competidores:**\n",
    "- Yo: Nosotros elegimos cuándo asegurar. Intentaremos usar un modelo C/L.\n",
    "- C/L óptimo: Usa el modelo C/L de forma óptima.\n",
    "- Siempre asegurado \n",
    "- Nunca asegurado (la climatología sería \"siempre asegurado\" o \"nunca asegurado\")\n",
    "- Modelo perfecto\n",
    "- Un modelo: tomamos un miembro del ensemble (es una predicción determinista)\n",
    "- Mediana: tomamos la mediana del ensemble (es una predicción determinista)"
   ]
  },
  {
   "cell_type": "code",
   "execution_count": null,
   "id": "432be189",
   "metadata": {},
   "outputs": [],
   "source": [
    "Simulator(filename='cams_ES1885A_2022.csv', \n",
    "          step=19,\n",
    "          threshold=50,\n",
    "          cost=20,\n",
    "          loss=100,\n",
    "          one_model=\"emep\",\n",
    "          begin_dt=datetime(2022,1,1), \n",
    "          end_dt=datetime(2022,7,1)\n",
    "          )"
   ]
  }
 ],
 "metadata": {
  "kernelspec": {
   "display_name": "Python 3 (ipykernel)",
   "language": "python",
   "name": "python3"
  },
  "language_info": {
   "codemirror_mode": {
    "name": "ipython",
    "version": 3
   },
   "file_extension": ".py",
   "mimetype": "text/x-python",
   "name": "python",
   "nbconvert_exporter": "python",
   "pygments_lexer": "ipython3",
   "version": "3.10.1"
  }
 },
 "nbformat": 4,
 "nbformat_minor": 5
}
